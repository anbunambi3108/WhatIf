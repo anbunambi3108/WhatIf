{
  "cells": [
    {
      "cell_type": "markdown",
      "metadata": {
        "id": "vvR440Ug-SWt"
      },
      "source": [
        "**'What If?' Stock Investment Simulator**\n",
        "\n",
        "This project allows users to simulate past stock investments and analyze how their money would have grown over time.  \n",
        "Users can choose a stock, set a time period, and select an investment strategy:  \n",
        "1. **Lump-Sum Investment** - Invest a fixed amount on a specific date.  \n",
        "2. **Monthly Investment (Dollar-Cost Averaging)** - Invest a fixed amount every month over time.  \n",
        "3. **Buy-the-Dip Strategy** - Invest only when stock prices drop below a certain level.  \n",
        "\n",
        "The program retrieves historical stock data, calculates potential returns, and visualizes investment performance.  \n",
        "It's a financial \"time machine\" that helps users understand investment growth without actual risk.  "
      ]
    },
    {
      "cell_type": "code",
      "execution_count": 1,
      "metadata": {
        "id": "cVGkbgOoUTZC"
      },
      "outputs": [
        {
          "ename": "ModuleNotFoundError",
          "evalue": "No module named 'flask'",
          "output_type": "error",
          "traceback": [
            "\u001b[1;31m---------------------------------------------------------------------------\u001b[0m",
            "\u001b[1;31mModuleNotFoundError\u001b[0m                       Traceback (most recent call last)",
            "Cell \u001b[1;32mIn[1], line 1\u001b[0m\n\u001b[1;32m----> 1\u001b[0m \u001b[38;5;28;01mfrom\u001b[39;00m \u001b[38;5;21;01mflask\u001b[39;00m \u001b[38;5;28;01mimport\u001b[39;00m Flask, render_template, request\n\u001b[0;32m      2\u001b[0m \u001b[38;5;28;01mimport\u001b[39;00m \u001b[38;5;21;01mpandas\u001b[39;00m \u001b[38;5;28;01mas\u001b[39;00m \u001b[38;5;21;01mpd\u001b[39;00m\n\u001b[0;32m      3\u001b[0m \u001b[38;5;28;01mimport\u001b[39;00m \u001b[38;5;21;01msqlite3\u001b[39;00m\n",
            "\u001b[1;31mModuleNotFoundError\u001b[0m: No module named 'flask'"
          ]
        }
      ],
      "source": [
        "from flask import Flask, render_template, request\n",
        "import pandas as pd\n",
        "import sqlite3\n",
        "import yfinance as yf\n",
        "import matplotlib.pyplot as plt\n"
      ]
    },
    {
      "cell_type": "code",
      "execution_count": null,
      "metadata": {
        "id": "l-8Lh9b6_Xaq"
      },
      "outputs": [],
      "source": [
        "app = Flask(__name__)\n"
      ]
    },
    {
      "cell_type": "code",
      "execution_count": null,
      "metadata": {
        "id": "veMH4x3chL5X"
      },
      "outputs": [],
      "source": [
        "# Function to fetch stock data\n",
        "def get_stock_data(ticker, start_date, end_date):\n",
        "    \"\"\"\n",
        "    Fetches stock data for the specified ticker between the given start and end dates.\n",
        "\n",
        "    Args:\n",
        "    ticker (str): The stock ticker symbol (e.g., AAPL, TSLA).\n",
        "    start_date (str): The start date for the stock data (format: YYYY-MM-DD).\n",
        "    end_date (str): The end date for the stock data (format: YYYY-MM-DD).\n",
        "\n",
        "    Returns:\n",
        "    pd.DataFrame: A DataFrame containing the closing prices of the stock.\n",
        "    \"\"\"\n",
        "    stock = yf.Ticker(ticker)\n",
        "    df = stock.history(start=start_date, end=end_date)\n",
        "    df = df[['Close']]  # Keep only the closing price\n",
        "    df.index = pd.to_datetime(df.index)  # Ensure index is in datetime format\n",
        "    return df\n"
      ]
    },
    {
      "cell_type": "code",
      "execution_count": null,
      "metadata": {
        "id": "2o4z8MrbhLyy"
      },
      "outputs": [],
      "source": [
        "# Function to store stock data in SQL database\n",
        "def store_data_in_sql(df, ticker):\n",
        "    \"\"\"\n",
        "    Stores the fetched stock data into a SQLite database.\n",
        "\n",
        "    Args:\n",
        "    df (pd.DataFrame): The DataFrame containing stock data to be stored.\n",
        "    ticker (str): The stock ticker symbol that identifies the table in the database.\n",
        "\n",
        "    Returns:\n",
        "    None\n",
        "    \"\"\"\n",
        "    conn = sqlite3.connect(\"stocks.db\")\n",
        "    df.reset_index(inplace=True)\n",
        "    df.to_sql(ticker, conn, if_exists=\"replace\", index=False)\n",
        "    conn.close()\n",
        "    print(f\"Stock data stored in database: {ticker}\")\n"
      ]
    },
    {
      "cell_type": "code",
      "execution_count": null,
      "metadata": {
        "id": "MEtJYtxGhLZC"
      },
      "outputs": [],
      "source": [
        "# Function to print stored stock data\n",
        "def print_stored_data(ticker):\n",
        "    conn = sqlite3.connect(\"stocks.db\")\n",
        "    query = f\"SELECT * FROM {ticker} LIMIT 10;\"  # Print only first 10 rows\n",
        "    df = pd.read_sql(query, conn)\n",
        "    conn.close()\n",
        "    print(f\"\\nStored stock data for {ticker} (First 10 rows):\\n\")\n",
        "    print(df)\n"
      ]
    },
    {
      "cell_type": "code",
      "execution_count": null,
      "metadata": {
        "id": "P7sgQitxhLVl"
      },
      "outputs": [],
      "source": [
        "# Function for Lump-Sum Investment\n",
        "def lump_sum_investment(df, investment_amount, buy_date):\n",
        "    \"\"\"\n",
        "    Simulates a lump-sum investment by purchasing stocks at the given buy date and holding until the end date.\n",
        "\n",
        "    Args:\n",
        "    df (pd.DataFrame): The DataFrame containing stock data (with closing prices).\n",
        "    investment_amount (float): The amount of money to invest in the stock.\n",
        "    buy_date (str): The date when the lump-sum investment is made (format: YYYY-MM-DD).\n",
        "\n",
        "    Returns:\n",
        "    tuple: The number of shares bought and the final value of the investment.\n",
        "    \"\"\"\n",
        "    # Convert the buy_date to datetime and remove the time zone\n",
        "    buy_date = pd.to_datetime(buy_date).normalize()  # Normalize to remove time portion\n",
        "\n",
        "    # Convert the DataFrame index to DatetimeIndex if it's not already\n",
        "    if not isinstance(df.index, pd.DatetimeIndex):\n",
        "        df = df.set_index(pd.to_datetime(df['Date']))  # Assuming 'Date' column exists\n",
        "\n",
        "    # Strip timezone from the stock data to make sure it's comparable\n",
        "    df.index = df.index.tz_localize(None)  # Remove timezone info\n",
        "\n",
        "    # Check if the buy_date is in the data index\n",
        "    if buy_date not in df.index:\n",
        "        print(\"Invalid date. Try again!\")\n",
        "        return None, None\n",
        "\n",
        "    # Retrieve buy price and calculate investment details\n",
        "    buy_price = df.loc[buy_date, \"Close\"]\n",
        "    shares_bought = investment_amount / buy_price\n",
        "    final_value = shares_bought * df.iloc[-1][\"Close\"]\n",
        "\n",
        "    return shares_bought, final_value\n"
      ]
    },
    {
      "cell_type": "code",
      "execution_count": null,
      "metadata": {
        "id": "4iYqN1h4hLSf"
      },
      "outputs": [],
      "source": [
        "# Function for Monthly Investment (Dollar-Cost Averaging)\n",
        "def monthly_investment(df, monthly_amount, start_date):\n",
        "    \"\"\"\n",
        "    Simulates monthly investments by making fixed amount investments every month, starting from the given start date.\n",
        "\n",
        "    Args:\n",
        "    df (pd.DataFrame): The DataFrame containing stock data (with closing prices).\n",
        "    monthly_amount (float): The amount to invest each month.\n",
        "    start_date (str): The start date for the monthly investments (format: YYYY-MM-DD).\n",
        "\n",
        "    Returns:\n",
        "    tuple: The total number of shares bought and the final value of the investment.\n",
        "    \"\"\"\n",
        "    start_date = pd.to_datetime(start_date)  # Convert input date to datetime\n",
        "    total_shares = 0\n",
        "\n",
        "    if start_date not in df.index:\n",
        "        print(\"Invalid start date. Try again!\")\n",
        "        return None, None\n",
        "\n",
        "    for date in df[start_date:].resample('M').first().index:  # Every month\n",
        "        if date in df.index:  # Ensure valid market date\n",
        "            price = df.loc[date, \"Close\"]\n",
        "            shares = monthly_amount / price\n",
        "            total_shares += shares\n",
        "\n",
        "    final_value = total_shares * df.iloc[-1][\"Close\"]\n",
        "    return total_shares, final_value\n"
      ]
    },
    {
      "cell_type": "code",
      "execution_count": null,
      "metadata": {
        "id": "a2mHeBD9hLPh"
      },
      "outputs": [],
      "source": [
        "# Function for Buy-the-Dip Strategy\n",
        "def buy_the_dip(df, investment_amount, threshold=0.95):\n",
        "    \"\"\"\n",
        "    Simulates a buy-the-dip strategy where stocks are bought if the price drops by a certain percentage.\n",
        "\n",
        "    Args:\n",
        "    df (pd.DataFrame): The DataFrame containing stock data (with closing prices).\n",
        "    investment_amount (float): The amount of money to invest whenever a dip is detected.\n",
        "    threshold (float): The percentage threshold for detecting a dip (default is 95% or 5% drop).\n",
        "\n",
        "    Returns:\n",
        "    tuple: The total number of shares bought and the final value of the investment.\n",
        "    \"\"\"\n",
        "    total_shares = 0\n",
        "    last_price = None\n",
        "\n",
        "    for date, row in df.iterrows():\n",
        "        price = row[\"Close\"]\n",
        "        if last_price and price < last_price * threshold:  # If price drops 5%+\n",
        "            shares = investment_amount / price\n",
        "            total_shares += shares\n",
        "        last_price = price\n",
        "\n",
        "    final_value = total_shares * df.iloc[-1][\"Close\"]\n",
        "    return total_shares, final_value\n"
      ]
    },
    {
      "cell_type": "code",
      "execution_count": null,
      "metadata": {
        "id": "LOcnV64chLMq"
      },
      "outputs": [],
      "source": [
        "# Function to plot stock data\n",
        "def plot_stock_data(df):\n",
        "    \"\"\"\n",
        "    Plots the stock's closing price over time.\n",
        "\n",
        "    Args:\n",
        "    df (pd.DataFrame): The DataFrame containing stock data (with closing prices).\n",
        "\n",
        "    Returns:\n",
        "    None\n",
        "    \"\"\"\n",
        "    plt.figure(figsize=(12, 6))\n",
        "    plt.plot(df.index, df[\"Close\"], label=\"Stock Price\", color='blue')\n",
        "    plt.title(\"Stock Price Over Time\")\n",
        "    plt.xlabel(\"Date\")\n",
        "    plt.ylabel(\"Price ($)\")\n",
        "    plt.legend()\n",
        "    plt.show()\n"
      ]
    },
    {
      "cell_type": "code",
      "execution_count": null,
      "metadata": {
        "colab": {
          "base_uri": "https://localhost:8080/"
        },
        "id": "4nywdlgBhLJl",
        "outputId": "78bb6171-8d84-4862-cd33-5051d5d8e68e"
      },
      "outputs": [
        {
          "name": "stdout",
          "output_type": "stream",
          "text": [
            "Welcome to the 'What If?' Stock Investment Simulator!\n",
            "\n",
            "Enter the stock ticker symbol (e.g., AAPL, TSLA, GOOG): TSLA\n",
            "Enter the start date for analysis (YYYY-MM-DD): 2025-01-01\n",
            "Enter the end date for analysis (YYYY-MM-DD): 2065-01-01\n"
          ]
        }
      ],
      "source": [
        "# Main Program Execution\n",
        "print(\"Welcome to the 'What If?' Stock Investment Simulator!\\n\")\n",
        "\n",
        "# User inputs\n",
        "ticker = input(\"Enter the stock ticker symbol (e.g., AAPL, TSLA, GOOG): \").upper()\n",
        "start_date = input(\"Enter the start date for analysis (YYYY-MM-DD): \")\n",
        "end_date = input(\"Enter the end date for analysis (YYYY-MM-DD): \")\n"
      ]
    },
    {
      "cell_type": "code",
      "execution_count": null,
      "metadata": {
        "colab": {
          "base_uri": "https://localhost:8080/"
        },
        "id": "rII157KKhLGZ",
        "outputId": "0a5b8764-b48c-4983-e7dc-94c4ad0e0104"
      },
      "outputs": [
        {
          "name": "stdout",
          "output_type": "stream",
          "text": [
            "Stock data stored in database: TSLA\n",
            "\n",
            "Stored stock data for TSLA (First 10 rows):\n",
            "\n",
            "                        Date       Close\n",
            "0  2025-01-02 00:00:00-05:00  379.279999\n",
            "1  2025-01-03 00:00:00-05:00  410.440002\n",
            "2  2025-01-06 00:00:00-05:00  411.049988\n",
            "3  2025-01-07 00:00:00-05:00  394.359985\n",
            "4  2025-01-08 00:00:00-05:00  394.940002\n",
            "5  2025-01-10 00:00:00-05:00  394.739990\n",
            "6  2025-01-13 00:00:00-05:00  403.309998\n",
            "7  2025-01-14 00:00:00-05:00  396.359985\n",
            "8  2025-01-15 00:00:00-05:00  428.220001\n",
            "9  2025-01-16 00:00:00-05:00  413.820007\n",
            "\n",
            " Choose your investment strategy:\n",
            "1. Lump-Sum Investment\n",
            "2. Monthly Investment (Dollar-Cost Averaging)\n",
            "3. Buy-the-Dip Strategy\n"
          ]
        }
      ],
      "source": [
        "# Fetch and store stock data\n",
        "stock_data = get_stock_data(ticker, start_date, end_date)\n",
        "store_data_in_sql(stock_data, ticker)\n",
        "\n",
        "# Print stored data\n",
        "print_stored_data(ticker)\n",
        "\n",
        "# Investment strategy selection\n",
        "print(\"\\n Choose your investment strategy:\")\n",
        "print(\"1. Lump-Sum Investment\")\n",
        "print(\"2. Monthly Investment (Dollar-Cost Averaging)\")\n",
        "print(\"3. Buy-the-Dip Strategy\")\n"
      ]
    },
    {
      "cell_type": "code",
      "execution_count": null,
      "metadata": {
        "colab": {
          "base_uri": "https://localhost:8080/"
        },
        "id": "MjCJpBT8hLDN",
        "outputId": "87535f5c-8b99-4ae1-84dc-cf28a42c1225"
      },
      "outputs": [
        {
          "name": "stdout",
          "output_type": "stream",
          "text": [
            "Enter the number of your choice: 1\n",
            "Enter the investment amount ($): 2000\n",
            "Enter the lump-sum purchase date (YYYY-MM-DD): 2025-01-02\n",
            "\n",
            "Total Shares Purchased: 5.27\n",
            "Final Investment Value: $1579.89\n"
          ]
        }
      ],
      "source": [
        "choice = input(\"Enter the number of your choice: \").strip()\n",
        "\n",
        "investment_amount = float(input(\"Enter the investment amount ($): \"))\n",
        "\n",
        "# Execute chosen strategy\n",
        "if choice in {\"1\", \"2\", \"3\"}:\n",
        "    if choice == \"1\":\n",
        "        buy_date = input(\"Enter the lump-sum purchase date (YYYY-MM-DD): \").strip()\n",
        "        shares, final_value = lump_sum_investment(stock_data, investment_amount, buy_date)\n",
        "    elif choice == \"2\":\n",
        "        start_date = input(\"Enter the start date for monthly investments (YYYY-MM-DD): \").strip()\n",
        "        shares, final_value = monthly_investment(stock_data, investment_amount, start_date)\n",
        "    else:  # choice == \"3\"\n",
        "        shares, final_value = buy_the_dip(stock_data, investment_amount)\n",
        "\n",
        "    # Display results\n",
        "    if shares is not None and final_value is not None:\n",
        "        print(f\"\\nTotal Shares Purchased: {shares:.2f}\")\n",
        "        print(f\"Final Investment Value: ${final_value:.2f}\")\n",
        "else:\n",
        "    print(\"Invalid choice. Exiting program.\")\n",
        "    exit()\n"
      ]
    },
    {
      "cell_type": "code",
      "execution_count": null,
      "metadata": {
        "colab": {
          "base_uri": "https://localhost:8080/",
          "height": 465
        },
        "id": "GPPgxfl6UTcH",
        "outputId": "0e61b6ac-21ea-41f3-fc12-84b79904ca45"
      },
      "outputs": [
        {
          "name": "stdout",
          "output_type": "stream",
          "text": [
            "\n",
            "Investment Simulation Completed!\n",
            "You bought 5.27 shares, and your portfolio is now worth $1579.89.\n"
          ]
        },
        {
          "data": {
            "image/png": "[encoded data removed]",
            "text/plain": [
              "<Figure size 1200x600 with 1 Axes>"
            ]
          },
          "metadata": {},
          "output_type": "display_data"
        }
      ],
      "source": [
        "# Display results\n",
        "if shares and final_value:\n",
        "    print(f\"\\nInvestment Simulation Completed!\")\n",
        "    print(f\"You bought {shares:.2f} shares, and your portfolio is now worth ${final_value:.2f}.\")\n",
        "\n",
        "# Plot stock data\n",
        "plot_stock_data(stock_data)\n"
      ]
    },
    {
      "cell_type": "code",
      "execution_count": null,
      "metadata": {
        "colab": {
          "base_uri": "https://localhost:8080/"
        },
        "id": "00D71qwv_moP",
        "outputId": "8a0ca6c7-3cb4-4a15-a5ec-2219c2e0dfd2"
      },
      "outputs": [
        {
          "name": "stdout",
          "output_type": "stream",
          "text": [
            " * Serving Flask app '__main__'\n",
            " * Debug mode: on\n"
          ]
        },
        {
          "name": "stderr",
          "output_type": "stream",
          "text": [
            "INFO:werkzeug:\u001b[31m\u001b[1mWARNING: This is a development server. Do not use it in a production deployment. Use a production WSGI server instead.\u001b[0m\n",
            " * Running on http://127.0.0.1:5000\n",
            "INFO:werkzeug:\u001b[33mPress CTRL+C to quit\u001b[0m\n",
            "INFO:werkzeug: * Restarting with stat\n"
          ]
        }
      ],
      "source": [
        "@app.route(\"/\", methods=[\"GET\", \"POST\"])\n",
        "def index():\n",
        "    stock_data = None\n",
        "    if request.method == \"POST\":\n",
        "        ticker = request.form[\"ticker\"].upper()\n",
        "        start_date = request.form[\"start_date\"]\n",
        "        end_date = request.form[\"end_date\"]\n",
        "\n",
        "        stock_data = get_stock_data(ticker, start_date, end_date)\n",
        "        if stock_data is not None and not stock_data.empty:\n",
        "            store_data_in_sql(stock_data, ticker)\n",
        "            stock_data = stock_data.head(10).to_html()  # Convert to HTML table\n",
        "\n",
        "    return render_template(\"index.html\", stock_data=stock_data)\n",
        "\n",
        "if __name__ == \"__main__\":\n",
        "    app.run(debug=True)\n"
      ]
    }
  ],
  "metadata": {
    "colab": {
      "provenance": []
    },
    "kernelspec": {
      "display_name": "Python 3",
      "name": "python3"
    },
    "language_info": {
      "codemirror_mode": {
        "name": "ipython",
        "version": 3
      },
      "file_extension": ".py",
      "mimetype": "text/x-python",
      "name": "python",
      "nbconvert_exporter": "python",
      "pygments_lexer": "ipython3",
      "version": "3.9.13"
    }
  },
  "nbformat": 4,
  "nbformat_minor": 0
}
