{
  "nbformat": 4,
  "nbformat_minor": 0,
  "metadata": {
    "colab": {
      "provenance": []
    },
    "kernelspec": {
      "name": "python3",
      "display_name": "Python 3"
    },
    "language_info": {
      "name": "python"
    }
  },
  "cells": [
    {
      "cell_type": "markdown",
      "source": [
        "**'What If?' Stock Investment Simulator**\n",
        "\n",
        "This project allows users to simulate past stock investments and analyze how their money would have grown over time.  \n",
        "Users can choose a stock, set a time period, and select an investment strategy:  \n",
        "1. **Lump-Sum Investment** - Invest a fixed amount on a specific date.  \n",
        "2. **Monthly Investment (Dollar-Cost Averaging)** - Invest a fixed amount every month over time.  \n",
        "3. **Buy-the-Dip Strategy** - Invest only when stock prices drop below a certain level.  \n",
        "\n",
        "The program retrieves historical stock data, calculates potential returns, and visualizes investment performance.  \n",
        "It's a financial \"time machine\" that helps users understand investment growth without actual risk.  "
      ],
      "metadata": {
        "id": "vvR440Ug-SWt"
      }
    },
    {
      "cell_type": "code",
      "source": [
        "import pandas as pd\n",
        "import sqlite3\n",
        "import yfinance as yf\n",
        "import matplotlib.pyplot as plt\n",
        "\n",
        "from flask import Flask, render_template, request\n",
        "from flask_ngrok import run_with_ngrok\n",
        "from pyngrok import ngrok\n",
        "import os"
      ],
      "metadata": {
        "id": "cVGkbgOoUTZC"
      },
      "execution_count": null,
      "outputs": []
    },
    {
      "cell_type": "code",
      "source": [
        "# Function to fetch stock data\n",
        "def get_stock_data(ticker, start_date, end_date):\n",
        "    \"\"\"\n",
        "    Fetches stock data for the specified ticker between the given start and end dates.\n",
        "\n",
        "    Args:\n",
        "    ticker (str): The stock ticker symbol (e.g., AAPL, TSLA).\n",
        "    start_date (str): The start date for the stock data (format: YYYY-MM-DD).\n",
        "    end_date (str): The end date for the stock data (format: YYYY-MM-DD).\n",
        "\n",
        "    Returns:\n",
        "    pd.DataFrame: A DataFrame containing the closing prices of the stock.\n",
        "    \"\"\"\n",
        "    stock = yf.Ticker(ticker)\n",
        "    df = stock.history(start=start_date, end=end_date)\n",
        "    df = df[['Close']]  # Keep only the closing price\n",
        "    df.index = pd.to_datetime(df.index)  # Ensure index is in datetime format\n",
        "    return df"
      ],
      "metadata": {
        "id": "veMH4x3chL5X"
      },
      "execution_count": null,
      "outputs": []
    },
    {
      "cell_type": "code",
      "source": [
        "# Function to store stock data in SQL database\n",
        "def store_data_in_sql(df, ticker):\n",
        "    \"\"\"\n",
        "    Stores the fetched stock data into a SQLite database.\n",
        "\n",
        "    Args:\n",
        "    df (pd.DataFrame): The DataFrame containing stock data to be stored.\n",
        "    ticker (str): The stock ticker symbol that identifies the table in the database.\n",
        "\n",
        "    Returns:\n",
        "    None\n",
        "    \"\"\"\n",
        "    conn = sqlite3.connect(\"stocks.db\")\n",
        "    df.reset_index(inplace=True)\n",
        "    df.to_sql(ticker, conn, if_exists=\"replace\", index=False)\n",
        "    conn.close()\n",
        "    print(f\"Stock data stored in database: {ticker}\")"
      ],
      "metadata": {
        "id": "2o4z8MrbhLyy"
      },
      "execution_count": null,
      "outputs": []
    },
    {
      "cell_type": "code",
      "source": [
        "# Function to print stored stock data\n",
        "def print_stored_data(ticker):\n",
        "    conn = sqlite3.connect(\"stocks.db\")\n",
        "    query = f\"SELECT * FROM {ticker} LIMIT 10;\"  # Print only first 10 rows\n",
        "    df = pd.read_sql(query, conn)\n",
        "    conn.close()\n",
        "    print(f\"\\nStored stock data for {ticker} (First 10 rows):\\n\")\n",
        "    print(df)"
      ],
      "metadata": {
        "id": "MEtJYtxGhLZC"
      },
      "execution_count": null,
      "outputs": []
    },
    {
      "cell_type": "code",
      "source": [
        "# Function for Lump-Sum Investment\n",
        "def lump_sum_investment(df, investment_amount, buy_date):\n",
        "    \"\"\"\n",
        "    Simulates a lump-sum investment by purchasing stocks at the given buy date and holding until the end date.\n",
        "\n",
        "    Args:\n",
        "    df (pd.DataFrame): The DataFrame containing stock data (with closing prices).\n",
        "    investment_amount (float): The amount of money to invest in the stock.\n",
        "    buy_date (str): The date when the lump-sum investment is made (format: YYYY-MM-DD).\n",
        "\n",
        "    Returns:\n",
        "    tuple: The number of shares bought and the final value of the investment.\n",
        "    \"\"\"\n",
        "    # Convert the buy_date to datetime and remove the time zone\n",
        "    buy_date = pd.to_datetime(buy_date).normalize()  # Normalize to remove time portion\n",
        "\n",
        "    # Convert the DataFrame index to DatetimeIndex if it's not already\n",
        "    if not isinstance(df.index, pd.DatetimeIndex):\n",
        "        df = df.set_index(pd.to_datetime(df['Date']))  # Assuming 'Date' column exists\n",
        "\n",
        "    # Strip timezone from the stock data to make sure it's comparable\n",
        "    df.index = df.index.tz_localize(None)  # Remove timezone info\n",
        "\n",
        "    # Check if the buy_date is in the data index\n",
        "    if buy_date not in df.index:\n",
        "        print(\"Invalid date. Try again!\")\n",
        "        return None, None\n",
        "\n",
        "    # Retrieve buy price and calculate investment details\n",
        "    buy_price = df.loc[buy_date, \"Close\"]\n",
        "    shares_bought = investment_amount / buy_price\n",
        "    final_value = shares_bought * df.iloc[-1][\"Close\"]\n",
        "\n",
        "    return shares_bought, final_value"
      ],
      "metadata": {
        "id": "P7sgQitxhLVl"
      },
      "execution_count": null,
      "outputs": []
    },
    {
      "cell_type": "code",
      "source": [
        "# Function for Monthly Investment (Dollar-Cost Averaging)\n",
        "def monthly_investment(df, monthly_amount, start_date):\n",
        "    \"\"\"\n",
        "    Simulates monthly investments by making fixed amount investments every month, starting from the given start date.\n",
        "\n",
        "    Args:\n",
        "    df (pd.DataFrame): The DataFrame containing stock data (with closing prices).\n",
        "    monthly_amount (float): The amount to invest each month.\n",
        "    start_date (str): The start date for the monthly investments (format: YYYY-MM-DD).\n",
        "\n",
        "    Returns:\n",
        "    tuple: The total number of shares bought and the final value of the investment.\n",
        "    \"\"\"\n",
        "    start_date = pd.to_datetime(start_date)  # Convert input date to datetime\n",
        "    total_shares = 0\n",
        "\n",
        "    if start_date not in df.index:\n",
        "        print(\"Invalid start date. Try again!\")\n",
        "        return None, None\n",
        "\n",
        "    for date in df[start_date:].resample('M').first().index:  # Every month\n",
        "        if date in df.index:  # Ensure valid market date\n",
        "            price = df.loc[date, \"Close\"]\n",
        "            shares = monthly_amount / price\n",
        "            total_shares += shares\n",
        "\n",
        "    final_value = total_shares * df.iloc[-1][\"Close\"]\n",
        "    return total_shares, final_value"
      ],
      "metadata": {
        "id": "4iYqN1h4hLSf"
      },
      "execution_count": null,
      "outputs": []
    },
    {
      "cell_type": "code",
      "source": [
        "# Function for Buy-the-Dip Strategy\n",
        "def buy_the_dip(df, investment_amount, threshold=0.95):\n",
        "    \"\"\"\n",
        "    Simulates a buy-the-dip strategy where stocks are bought if the price drops by a certain percentage.\n",
        "\n",
        "    Args:\n",
        "    df (pd.DataFrame): The DataFrame containing stock data (with closing prices).\n",
        "    investment_amount (float): The amount of money to invest whenever a dip is detected.\n",
        "    threshold (float): The percentage threshold for detecting a dip (default is 95% or 5% drop).\n",
        "\n",
        "    Returns:\n",
        "    tuple: The total number of shares bought and the final value of the investment.\n",
        "    \"\"\"\n",
        "    total_shares = 0\n",
        "    last_price = None\n",
        "\n",
        "    for date, row in df.iterrows():\n",
        "        price = row[\"Close\"]\n",
        "        if last_price and price < last_price * threshold:  # If price drops 5%+\n",
        "            shares = investment_amount / price\n",
        "            total_shares += shares\n",
        "        last_price = price\n",
        "\n",
        "    final_value = total_shares * df.iloc[-1][\"Close\"]\n",
        "    return total_shares, final_value"
      ],
      "metadata": {
        "id": "a2mHeBD9hLPh"
      },
      "execution_count": null,
      "outputs": []
    },
    {
      "cell_type": "code",
      "source": [
        "# Function to plot stock data\n",
        "def plot_stock_data(df):\n",
        "    \"\"\"\n",
        "    Plots the stock's closing price over time.\n",
        "\n",
        "    Args:\n",
        "    df (pd.DataFrame): The DataFrame containing stock data (with closing prices).\n",
        "\n",
        "    Returns:\n",
        "    None\n",
        "    \"\"\"\n",
        "    plt.figure(figsize=(12, 6))\n",
        "    plt.plot(df.index, df[\"Close\"], label=\"Stock Price\", color='blue')\n",
        "    plt.title(\"Stock Price Over Time\")\n",
        "    plt.xlabel(\"Date\")\n",
        "    plt.ylabel(\"Price ($)\")\n",
        "    plt.legend()\n",
        "    plt.show()"
      ],
      "metadata": {
        "id": "LOcnV64chLMq"
      },
      "execution_count": null,
      "outputs": []
    },
    {
      "cell_type": "code",
      "source": [
        "# Main Program Execution\n",
        "print(\"Welcome to the 'What If?' Stock Investment Simulator!\\n\")\n",
        "\n",
        "# User inputs\n",
        "ticker = input(\"Enter the stock ticker symbol (e.g., AAPL, TSLA, GOOG): \").upper()\n",
        "start_date = input(\"Enter the start date for analysis (YYYY-MM-DD): \")\n",
        "end_date = input(\"Enter the end date for analysis (YYYY-MM-DD): \")"
      ],
      "metadata": {
        "id": "4nywdlgBhLJl",
        "colab": {
          "base_uri": "https://localhost:8080/"
        },
        "outputId": "0e234403-f7aa-4931-d3c9-1f461572ae3c"
      },
      "execution_count": null,
      "outputs": [
        {
          "name": "stdout",
          "output_type": "stream",
          "text": [
            "Welcome to the 'What If?' Stock Investment Simulator!\n",
            "\n",
            "Enter the stock ticker symbol (e.g., AAPL, TSLA, GOOG): goog\n",
            "Enter the start date for analysis (YYYY-MM-DD): 2025-01-01\n",
            "Enter the end date for analysis (YYYY-MM-DD): 2065-01-01\n"
          ]
        }
      ]
    },
    {
      "cell_type": "code",
      "source": [
        "# Fetch and store stock data\n",
        "stock_data = get_stock_data(ticker, start_date, end_date)\n",
        "store_data_in_sql(stock_data, ticker)\n",
        "\n",
        "# Print stored data\n",
        "print_stored_data(ticker)\n",
        "\n",
        "# Investment strategy selection\n",
        "print(\"\\n Choose your investment strategy:\")\n",
        "print(\"1. Lump-Sum Investment\")\n",
        "print(\"2. Monthly Investment (Dollar-Cost Averaging)\")\n",
        "print(\"3. Buy-the-Dip Strategy\")"
      ],
      "metadata": {
        "id": "rII157KKhLGZ",
        "colab": {
          "base_uri": "https://localhost:8080/"
        },
        "outputId": "f0447a08-532d-43c5-b8d0-508aba0e213a"
      },
      "execution_count": null,
      "outputs": [
        {
          "output_type": "stream",
          "name": "stdout",
          "text": [
            "Stock data stored in database: GOOG\n",
            "\n",
            "Stored stock data for GOOG (First 10 rows):\n",
            "\n",
            "                        Date       Close\n",
            "0  2025-01-02 00:00:00-05:00  190.630005\n",
            "1  2025-01-03 00:00:00-05:00  193.130005\n",
            "2  2025-01-06 00:00:00-05:00  197.960007\n",
            "3  2025-01-07 00:00:00-05:00  196.710007\n",
            "4  2025-01-08 00:00:00-05:00  195.389999\n",
            "5  2025-01-10 00:00:00-05:00  193.169998\n",
            "6  2025-01-13 00:00:00-05:00  192.289993\n",
            "7  2025-01-14 00:00:00-05:00  191.050003\n",
            "8  2025-01-15 00:00:00-05:00  196.979996\n",
            "9  2025-01-16 00:00:00-05:00  194.410004\n",
            "\n",
            " Choose your investment strategy:\n",
            "1. Lump-Sum Investment\n",
            "2. Monthly Investment (Dollar-Cost Averaging)\n",
            "3. Buy-the-Dip Strategy\n"
          ]
        }
      ]
    },
    {
      "cell_type": "code",
      "source": [
        "choice = input(\"Enter the number of your choice: \").strip()\n",
        "\n",
        "investment_amount = float(input(\"Enter the investment amount ($): \"))\n",
        "\n",
        "# Execute chosen strategy\n",
        "if choice in {\"1\", \"2\", \"3\"}:\n",
        "    if choice == \"1\":\n",
        "        buy_date = input(\"Enter the lump-sum purchase date (YYYY-MM-DD): \").strip()\n",
        "        shares, final_value = lump_sum_investment(stock_data, investment_amount, buy_date)\n",
        "    elif choice == \"2\":\n",
        "        start_date = input(\"Enter the start date for monthly investments (YYYY-MM-DD): \").strip()\n",
        "        shares, final_value = monthly_investment(stock_data, investment_amount, start_date)\n",
        "    else:  # choice == \"3\"\n",
        "        shares, final_value = buy_the_dip(stock_data, investment_amount)\n",
        "\n",
        "    # Display results\n",
        "    if shares is not None and final_value is not None:\n",
        "        print(f\"\\nTotal Shares Purchased: {shares:.2f}\")\n",
        "        print(f\"Final Investment Value: ${final_value:.2f}\")\n",
        "else:\n",
        "    print(\"Invalid choice. Exiting program.\")\n",
        "    exit()"
      ],
      "metadata": {
        "id": "MjCJpBT8hLDN",
        "colab": {
          "base_uri": "https://localhost:8080/"
        },
        "outputId": "826175dd-4ab7-4e74-861c-b2b552a2bae5"
      },
      "execution_count": null,
      "outputs": [
        {
          "output_type": "stream",
          "name": "stdout",
          "text": [
            "Enter the number of your choice: 1\n",
            "Enter the investment amount ($): 24554\n",
            "Enter the lump-sum purchase date (YYYY-MM-DD): 2025-01-02\n",
            "\n",
            "Total Shares Purchased: 128.80\n",
            "Final Investment Value: $22111.87\n"
          ]
        }
      ]
    },
    {
      "cell_type": "code",
      "source": [
        "# Display results\n",
        "if shares and final_value:\n",
        "    print(f\"\\nInvestment Simulation Completed!\")\n",
        "    print(f\"You bought {shares:.2f} shares, and your portfolio is now worth ${final_value:.2f}.\")\n",
        "\n",
        "# Plot stock data\n",
        "plot_stock_data(stock_data)"
      ],
      "metadata": {
        "id": "GPPgxfl6UTcH",
        "colab": {
          "base_uri": "https://localhost:8080/",
          "height": 465
        },
        "outputId": "81c41f6f-403c-4f03-a68a-75a81ac63908"
      },
      "execution_count": null,
      "outputs": [
        {
          "output_type": "stream",
          "name": "stdout",
          "text": [
            "\n",
            "Investment Simulation Completed!\n",
            "You bought 128.80 shares, and your portfolio is now worth $22111.87.\n"
          ]
        },
        {
          "output_type": "display_data",
          "data": {
            "text/plain": [
              "<Figure size 1200x600 with 1 Axes>"
            ],
            "image/png": "[encoded data removed]"
          },
          "metadata": {}
        }
      ]
    }
  ]
}